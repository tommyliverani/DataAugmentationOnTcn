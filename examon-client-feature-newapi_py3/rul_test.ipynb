{
 "cells": [
  {
   "cell_type": "code",
   "execution_count": 1,
   "metadata": {},
   "outputs": [
    {
     "data": {
      "application/javascript": [
       "require.config({\n",
       "    paths: {\n",
       "        datatables: 'https://cdn.datatables.net/1.10.19/js/jquery.dataTables.min',\n",
       "    }\n",
       "});\n",
       "\n",
       "$('head').append('<link rel=\"stylesheet\" type=\"text/css\" \\\n",
       "                href = \"https://cdn.datatables.net/1.10.19/css/jquery.dataTables.min.css\" > ');\n",
       "\n",
       "$('head').append('<style> table td { text-overflow: ellipsis; overflow: hidden; } </style>');\n",
       "\n",
       "$('head').append(`<script>\n",
       "function eval_functions(map_or_text) {\n",
       "    if (typeof map_or_text === \"string\") {\n",
       "        if (map_or_text.startsWith(\"function\")) {\n",
       "            try {\n",
       "                // Note: parenthesis are required around the whole expression for eval to return a value!\n",
       "                // See https://stackoverflow.com/a/7399078/911298.\n",
       "                //\n",
       "                // eval(\"local_fun = \" + map_or_text) would fail because local_fun is not declared\n",
       "                // (using var, let or const would work, but it would only be declared in the local scope\n",
       "                // and therefore the value could not be retrieved).\n",
       "                const func = eval(\"(\" + map_or_text + \")\");\n",
       "                if (typeof func !== \"function\") {\n",
       "                    // Note: backquotes are super convenient!\n",
       "                    // https://developer.mozilla.org/en-US/docs/Web/JavaScript/Reference/Template_literals\n",
       "                    console.error(\"Evaluated expression \" + map_or_text + \" is not a function (type is \" + typeof func + \")\");\n",
       "                    return map_or_text;\n",
       "                }\n",
       "                // Return the function\n",
       "                return func;\n",
       "            } catch (e) {\n",
       "                // Make sure to print the error with a second argument to console.error().\n",
       "                console.error(\"itables was not able to parse \" + map_or_text, e);\n",
       "            }\n",
       "        }\n",
       "    } else if (typeof map_or_text === \"object\") {\n",
       "        if (map_or_text instanceof Array) {\n",
       "            // Note: \"var\" is now superseded by \"let\" and \"const\".\n",
       "            // https://medium.com/javascript-scene/javascript-es6-var-let-or-const-ba58b8dcde75\n",
       "            const result = [];\n",
       "            // Note: \"for of\" is the best way to iterate through an iterable.\n",
       "            // https://developer.mozilla.org/en-US/docs/Web/JavaScript/Reference/Statements/for...of\n",
       "            for (const item of map_or_text) {\n",
       "                result.push(eval_functions(item));\n",
       "            }\n",
       "            return result;\n",
       "\n",
       "            // Alternatively, more functional approach in one line:\n",
       "            // return map_or_text.map(eval_functions);\n",
       "        } else {\n",
       "            const result = {};\n",
       "            // Object.keys() is safer than \"for in\" because otherwise you might have keys\n",
       "            // that aren't defined in the object itself.\n",
       "            //\n",
       "            // See https://stackoverflow.com/a/684692/911298.\n",
       "            for (const item of Object.keys(map_or_text)) {\n",
       "                result[item] = eval_functions(map_or_text[item]);\n",
       "            }\n",
       "            return result;\n",
       "        }\n",
       "    }\n",
       "\n",
       "    return map_or_text;\n",
       "}\n",
       "</` + 'script>');"
      ],
      "text/plain": [
       "<IPython.core.display.Javascript object>"
      ]
     },
     "metadata": {},
     "output_type": "display_data"
    }
   ],
   "source": [
    "import pandas as pd\n",
    "from itables import show\n",
    "from itables import options as opt\n",
    "import numpy as np\n",
    "import csv\n",
    "from rul_utils import compute_rul"
   ]
  },
  {
   "cell_type": "code",
   "execution_count": 2,
   "metadata": {},
   "outputs": [],
   "source": [
    "full_data = pd.read_csv('final_data/final_data_full.csv')"
   ]
  },
  {
   "cell_type": "code",
   "execution_count": 3,
   "metadata": {},
   "outputs": [
    {
     "name": "stderr",
     "output_type": "stream",
     "text": [
      "/root/Desktop/DataAugmentationOnTcn/examon-client-feature-newapi_py3/rul_utils.py:20: SettingWithCopyWarning: \n",
      "A value is trying to be set on a copy of a slice from a DataFrame\n",
      "\n",
      "See the caveats in the documentation: http://pandas.pydata.org/pandas-docs/stable/indexing.html#indexing-view-versus-copy\n",
      "  data['rul'][i]=index-i\n"
     ]
    }
   ],
   "source": [
    "compute_rul(full_data)"
   ]
  },
  {
   "cell_type": "code",
   "execution_count": 4,
   "metadata": {},
   "outputs": [
    {
     "name": "stdout",
     "output_type": "stream",
     "text": [
      "r169c03s01 | 0.0 | 5\n",
      "r169c03s01 | 0.0 | 4\n",
      "r169c03s01 | 0.0 | 3\n",
      "r169c03s01 | 0.0 | 2\n",
      "r169c03s01 | 0.0 | 1\n",
      "r169c03s01 | 1.0 | 0\n",
      "r169c03s01 | 0.0 | 198\n",
      "r169c03s01 | 0.0 | 197\n",
      "r169c03s01 | 0.0 | 196\n",
      "r169c03s01 | 0.0 | 195\n",
      "\n",
      "\n",
      "\n",
      "r169c03s01 | 0.0 | 5\n",
      "r169c03s01 | 0.0 | 4\n",
      "r169c03s01 | 0.0 | 3\n",
      "r169c03s01 | 0.0 | 2\n",
      "r169c03s01 | 0.0 | 1\n",
      "r169c03s01 | 1.0 | 0\n",
      "r169c03s01 | 0.0 | 1375\n",
      "r169c03s01 | 0.0 | 1374\n",
      "r169c03s01 | 0.0 | 1373\n",
      "r169c03s01 | 0.0 | 1372\n",
      "\n",
      "\n",
      "\n",
      "r169c03s01 | 0.0 | 5\n",
      "r169c03s01 | 0.0 | 4\n",
      "r169c03s01 | 0.0 | 3\n",
      "r169c03s01 | 0.0 | 2\n",
      "r169c03s01 | 0.0 | 1\n",
      "r169c03s01 | 1.0 | 0\n",
      "r169c03s01 | 0.0 | 0\n",
      "r169c03s01 | 0.0 | 0\n",
      "r169c03s01 | 0.0 | 0\n",
      "r169c03s01 | 0.0 | 0\n",
      "\n",
      "\n",
      "\n"
     ]
    }
   ],
   "source": [
    "#test 1\n",
    "i=0\n",
    "for index, row in full_data.iterrows():\n",
    "\tif full_data['rul'][index]==5:\n",
    "\t\tfor j in range(0,10):\n",
    "\t\t\tprint('{} | {} | {}'.format(full_data['node'][index+j],full_data['is_rising_anomaly'][index+j],full_data['rul'][index+j]))\n",
    "\t\tprint('\\n\\n')\t\t\t\n",
    "\t\ti=i+1\n",
    "\t\tif i==3:\n",
    "\t\t\tbreak"
   ]
  },
  {
   "cell_type": "code",
   "execution_count": 5,
   "metadata": {},
   "outputs": [
    {
     "name": "stdout",
     "output_type": "stream",
     "text": [
      "r169c03s01 | 0.0 | 0\n",
      "r169c03s01 | 0.0 | 0\n",
      "r169c03s01 | 0.0 | 0\n",
      "r169c03s01 | 0.0 | 0\n",
      "r169c03s01 | 0.0 | 0\n",
      "r173c16s02 | 0.0 | 3643\n",
      "r173c16s02 | 0.0 | 3642\n",
      "r173c16s02 | 0.0 | 3641\n",
      "r173c16s02 | 0.0 | 3640\n",
      "r173c16s02 | 0.0 | 3639\n",
      "\n",
      "\n",
      "\n",
      "r173c16s02 | 0.0 | 0\n",
      "r173c16s02 | 0.0 | 0\n",
      "r173c16s02 | 0.0 | 0\n",
      "r173c16s02 | 0.0 | 0\n",
      "r173c16s02 | 0.0 | 0\n",
      "r089c13s04 | 0.0 | 6581\n",
      "r089c13s04 | 0.0 | 6580\n",
      "r089c13s04 | 0.0 | 6579\n",
      "r089c13s04 | 0.0 | 6578\n",
      "r089c13s04 | 0.0 | 6577\n",
      "\n",
      "\n",
      "\n",
      "r089c13s04 | 0.0 | 0\n",
      "r089c13s04 | 0.0 | 0\n",
      "r089c13s04 | 0.0 | 0\n",
      "r089c13s04 | 0.0 | 0\n",
      "r089c13s04 | 0.0 | 0\n",
      "r101c09s01 | 0.0 | 1747\n",
      "r101c09s01 | 0.0 | 1746\n",
      "r101c09s01 | 0.0 | 1745\n",
      "r101c09s01 | 0.0 | 1744\n",
      "r101c09s01 | 0.0 | 1743\n",
      "\n",
      "\n",
      "\n"
     ]
    }
   ],
   "source": [
    "#test2\n",
    "i=0\n",
    "last_node=full_data['node'][0]\n",
    "for index, row in full_data.iterrows():\n",
    "    if full_data['node'][index]!=last_node:\n",
    "        for j in range(-5,5):\n",
    "            print('{} | {} | {}'.format(full_data['node'][index+j],full_data['is_rising_anomaly'][index+j],full_data['rul'][index+j]))\n",
    "        last_node=full_data['node'][index]\n",
    "        print('\\n\\n')\n",
    "        i=i+1\n",
    "        if i==3 :\n",
    "            break"
   ]
  },
  {
   "cell_type": "code",
   "execution_count": null,
   "metadata": {},
   "outputs": [],
   "source": []
  }
 ],
 "metadata": {
  "kernelspec": {
   "display_name": "Python 3",
   "language": "python",
   "name": "python3"
  },
  "language_info": {
   "codemirror_mode": {
    "name": "ipython",
    "version": 3
   },
   "file_extension": ".py",
   "mimetype": "text/x-python",
   "name": "python",
   "nbconvert_exporter": "python",
   "pygments_lexer": "ipython3",
   "version": "3.7.3"
  }
 },
 "nbformat": 4,
 "nbformat_minor": 2
}
