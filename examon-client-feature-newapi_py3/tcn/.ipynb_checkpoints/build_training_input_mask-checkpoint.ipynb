{
 "cells": [
  {
   "cell_type": "markdown",
   "metadata": {},
   "source": [
    "## Build TCN input mask\n",
    "\n",
    "This file is usefull to build a mask in order to avoid useless computation during model training. \n",
    "We'd like to skip the following observations:\n",
    "\n",
    "Observations to be skipped:\n",
    "* Included by default in TimeseriesGenerator : \n",
    "    * first `timeseries_receptive_field-1` observations for inputs (Ref. the whole dataset)\n",
    "    * last observation for inputs (Ref. the whole dataset)\n",
    "* Not included by default in TimeseriesGenerator :\n",
    "    * first `timeseries_receptive_field-1` observations for new nodes\n",
    "    * last observation for each node\n",
    "    * first `timeseries_receptive_field-1` observations after a hole\n",
    "    * last observation before a hole\n",
    "    * first `timeseries_receptive_field-1` observations after ones having `is_non_rising_anomaly=1`\n",
    "    * last observation before ones having `is_non_rising_anomaly=1`"
   ]
  },
  {
   "cell_type": "code",
   "execution_count": 64,
   "metadata": {},
   "outputs": [],
   "source": [
    "import pandas as pd\n",
    "import numpy as np\n",
    "from itables import show, options\n",
    "from datetime import timedelta\n",
    "\n",
    "options.maxBytes=0"
   ]
  },
  {
   "cell_type": "code",
   "execution_count": 10,
   "metadata": {},
   "outputs": [],
   "source": [
    "receptive_field = 128"
   ]
  },
  {
   "cell_type": "code",
   "execution_count": 187,
   "metadata": {},
   "outputs": [],
   "source": [
    "dataset = pd.read_csv('./final_data/final_data_full.csv').set_index(['node', 'timestamp'])"
   ]
  },
  {
   "cell_type": "markdown",
   "metadata": {},
   "source": [
    "##### Build mask"
   ]
  },
  {
   "cell_type": "code",
   "execution_count": 182,
   "metadata": {},
   "outputs": [],
   "source": [
    "dataset_to_mask = dataset.reset_index()[['node', 'timestamp', 'is_non_rising_anomaly']]\n",
    "dataset_to_mask['timestamp'] = pd.to_datetime(dataset_to_mask['timestamp'])\n",
    "\n",
    "# Initialize mask with 1\n",
    "mask = np.ones(len(dataset_to_mask))\n",
    "\n",
    "prev_node, prev_timestamp = dataset_to_mask['node'][0], dataset_to_mask['timestamp'][0]\n",
    "\n",
    "for idx, (node, timestamp, is_non_rising_anomaly) in dataset_to_mask.iterrows() :\n",
    "#     print('idx: {}; node: {}; timestamp: {}; is_non_rising_anomaly: {}'\\\n",
    "#           .format(idx, node, timestamp, is_non_rising_anomaly))\n",
    "    \n",
    "    # Check new node, holes and rising anomaly\n",
    "    if (prev_node != node) or \\\n",
    "       (timestamp - prev_timestamp > timedelta(minutes=5)) or \\\n",
    "       (is_non_rising_anomaly == 1) :\n",
    "        \n",
    "        # Hide following timeseries_receptive_field -1 observations\n",
    "        if idx+receptive_field <= len(mask) :\n",
    "            mask[idx:idx+receptive_field] = 0\n",
    "        else\n",
    "            mask[idx:len(mask)] = 0\n",
    "        # Hide previous observations (which label is invalid)\n",
    "        if idx > 0 :\n",
    "            mask[idx-1] = 0\n",
    "     \n",
    "    prev_node = node\n",
    "    prev_timestamp = timestamp"
   ]
  }
 ],
 "metadata": {
  "kernelspec": {
   "display_name": "Python 3",
   "language": "python",
   "name": "python3"
  },
  "language_info": {
   "codemirror_mode": {
    "name": "ipython",
    "version": 3
   },
   "file_extension": ".py",
   "mimetype": "text/x-python",
   "name": "python",
   "nbconvert_exporter": "python",
   "pygments_lexer": "ipython3",
   "version": "3.7.3"
  }
 },
 "nbformat": 4,
 "nbformat_minor": 2
}
