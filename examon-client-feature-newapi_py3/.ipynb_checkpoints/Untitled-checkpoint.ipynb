{
 "cells": [
  {
   "cell_type": "code",
   "execution_count": 1,
   "metadata": {},
   "outputs": [],
   "source": [
    "from examon.examon import ExamonQL\n",
    "import pandas as pd\n",
    "import numpy as np\n",
    "\n",
    "from my_lib import examon_utils as eu\n",
    "from my_lib import nagios_sampling as ns\n",
    "from my_lib import general_utils as gu\n",
    "from my_lib import features_extraction as fe"
   ]
  },
  {
   "cell_type": "code",
   "execution_count": 3,
   "metadata": {},
   "outputs": [
    {
     "name": "stdout",
     "output_type": "stream",
     "text": [
      "<urllib.request.Request object at 0x7fd761ead908>\n",
      "ganglia nodes extracted\n",
      "confluent nodes extracted\n",
      "nagios nodes extracted\n"
     ]
    }
   ],
   "source": [
    "sq = eu.create_examon_connection()\n",
    "\n",
    "t_start='18-10-2019 10:00:00'\n",
    "t_stop='11-01-2020 06:36:00'\n",
    "\n",
    "\n",
    "# Find common Marconi's nodes from ganglia, confluent and nagios\n",
    "ganglia_nodes = eu.get_nodes_from_plugin(sq, 'ganglia_pub')\n",
    "print(\"ganglia nodes extracted\", flush=True)\n",
    "confluent_nodes = eu.get_nodes_from_plugin(sq, 'confluent_pub')\n",
    "print(\"confluent nodes extracted\", flush=True)\n",
    "nagios_nodes = eu.get_nodes_from_plugin(sq, 'nagios_pub')\n",
    "print(\"nagios nodes extracted\", flush=True)\n"
   ]
  },
  {
   "cell_type": "code",
   "execution_count": 4,
   "metadata": {},
   "outputs": [
    {
     "name": "stdout",
     "output_type": "stream",
     "text": [
      "marconi nodes extracted\n"
     ]
    }
   ],
   "source": [
    "marconi_nodes = eu.get_all_marconi_nodes(sq)\n",
    "print(\"marconi nodes extracted\", flush=True)"
   ]
  },
  {
   "cell_type": "code",
   "execution_count": 6,
   "metadata": {},
   "outputs": [
    {
     "name": "stdout",
     "output_type": "stream",
     "text": [
      "common nodes found\n"
     ]
    }
   ],
   "source": [
    "common_nodes = fe.merge_marconi_plugin_nodes(ganglia_nodes, confluent_nodes, nagios_nodes, marconi_nodes)\n",
    "print(\"common nodes found\", flush=True)"
   ]
  },
  {
   "cell_type": "code",
   "execution_count": 7,
   "metadata": {},
   "outputs": [
    {
     "name": "stdout",
     "output_type": "stream",
     "text": [
      "states extracted and filtered from nagios\n"
     ]
    }
   ],
   "source": [
    "# Extract states from Examon using nagios\n",
    "nodes_num_criticalities_df = ns.extract_states_multi_node_query(sq, common_nodes, len(common_nodes), '2', t_start, t_stop)\n",
    "print(\"states extracted and filtered from nagios\", flush=True)"
   ]
  },
  {
   "cell_type": "code",
   "execution_count": 16,
   "metadata": {},
   "outputs": [
    {
     "ename": "NameError",
     "evalue": "name 'max_rising_edges' is not defined",
     "output_type": "error",
     "traceback": [
      "\u001b[0;31m---------------------------------------------------------------------------\u001b[0m",
      "\u001b[0;31mNameError\u001b[0m                                 Traceback (most recent call last)",
      "\u001b[0;32m<ipython-input-16-df8c9b0784a4>\u001b[0m in \u001b[0;36m<module>\u001b[0;34m\u001b[0m\n\u001b[1;32m      1\u001b[0m \u001b[0;31m# Extract best nodes in terms of number of criticalities\u001b[0m\u001b[0;34m\u001b[0m\u001b[0;34m\u001b[0m\u001b[0;34m\u001b[0m\u001b[0m\n\u001b[0;32m----> 2\u001b[0;31m \u001b[0mnodes_to_model\u001b[0m \u001b[0;34m=\u001b[0m \u001b[0mns\u001b[0m\u001b[0;34m.\u001b[0m\u001b[0msearch_opt_non_outlier_nodes\u001b[0m\u001b[0;34m(\u001b[0m\u001b[0mnodes_num_criticalities_df\u001b[0m\u001b[0;34m,\u001b[0m \u001b[0;36m96\u001b[0m\u001b[0;34m,\u001b[0m \u001b[0mmax_rising_edges\u001b[0m\u001b[0;34m,\u001b[0m \u001b[0;36m100\u001b[0m\u001b[0;34m,\u001b[0m \u001b[0;36m20\u001b[0m\u001b[0;34m,\u001b[0m \u001b[0msq\u001b[0m\u001b[0;34m,\u001b[0m \u001b[0mt_start\u001b[0m\u001b[0;34m,\u001b[0m \u001b[0mt_stop\u001b[0m\u001b[0;34m)\u001b[0m\u001b[0;34m\u001b[0m\u001b[0;34m\u001b[0m\u001b[0m\n\u001b[0m",
      "\u001b[0;31mNameError\u001b[0m: name 'max_rising_edges' is not defined"
     ]
    }
   ],
   "source": [
    "# Extract best nodes in terms of number of criticalities\n",
    "nodes_to_model = ns.search_opt_non_outlier_nodes(nodes_num_criticalities_df, 96, max_rising_edges, 100, 20, sq, t_start, t_stop)"
   ]
  },
  {
   "cell_type": "code",
   "execution_count": null,
   "metadata": {},
   "outputs": [],
   "source": []
  },
  {
   "cell_type": "code",
   "execution_count": null,
   "metadata": {},
   "outputs": [],
   "source": []
  }
 ],
 "metadata": {
  "kernelspec": {
   "display_name": "Python 3",
   "language": "python",
   "name": "python3"
  },
  "language_info": {
   "codemirror_mode": {
    "name": "ipython",
    "version": 3
   },
   "file_extension": ".py",
   "mimetype": "text/x-python",
   "name": "python",
   "nbconvert_exporter": "python",
   "pygments_lexer": "ipython3",
   "version": "3.7.3"
  }
 },
 "nbformat": 4,
 "nbformat_minor": 2
}
